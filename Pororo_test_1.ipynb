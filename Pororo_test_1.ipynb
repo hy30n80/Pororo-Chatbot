{
  "nbformat": 4,
  "nbformat_minor": 0,
  "metadata": {
    "colab": {
      "provenance": [],
      "authorship_tag": "ABX9TyOq17YJ862qc1qIP7oGD7e6",
      "include_colab_link": true
    },
    "kernelspec": {
      "name": "python3",
      "display_name": "Python 3"
    },
    "language_info": {
      "name": "python"
    }
  },
  "cells": [
    {
      "cell_type": "markdown",
      "metadata": {
        "id": "view-in-github",
        "colab_type": "text"
      },
      "source": [
        "<a href=\"https://colab.research.google.com/github/hy30n80/Pororo-Chatbot/blob/main/%08Pororo_test_1.ipynb\" target=\"_parent\"><img src=\"https://colab.research.google.com/assets/colab-badge.svg\" alt=\"Open In Colab\"/></a>"
      ]
    },
    {
      "cell_type": "code",
      "source": [
        "!pip install openai"
      ],
      "metadata": {
        "colab": {
          "base_uri": "https://localhost:8080/"
        },
        "id": "PMmSBTWU6kR2",
        "outputId": "324f3efa-f96b-43a5-b542-dcd2a97db514"
      },
      "execution_count": 1,
      "outputs": [
        {
          "output_type": "stream",
          "name": "stdout",
          "text": [
            "Looking in indexes: https://pypi.org/simple, https://us-python.pkg.dev/colab-wheels/public/simple/\n",
            "Collecting openai\n",
            "  Downloading openai-0.27.2-py3-none-any.whl (70 kB)\n",
            "\u001b[2K     \u001b[90m━━━━━━━━━━━━━━━━━━━━━━━━━━━━━━━━━━━━━━━━\u001b[0m \u001b[32m70.1/70.1 KB\u001b[0m \u001b[31m2.1 MB/s\u001b[0m eta \u001b[36m0:00:00\u001b[0m\n",
            "\u001b[?25hRequirement already satisfied: tqdm in /usr/local/lib/python3.9/dist-packages (from openai) (4.65.0)\n",
            "Requirement already satisfied: requests>=2.20 in /usr/local/lib/python3.9/dist-packages (from openai) (2.27.1)\n",
            "Collecting aiohttp\n",
            "  Downloading aiohttp-3.8.4-cp39-cp39-manylinux_2_17_x86_64.manylinux2014_x86_64.whl (1.0 MB)\n",
            "\u001b[2K     \u001b[90m━━━━━━━━━━━━━━━━━━━━━━━━━━━━━━━━━━━━━━━━\u001b[0m \u001b[32m1.0/1.0 MB\u001b[0m \u001b[31m27.8 MB/s\u001b[0m eta \u001b[36m0:00:00\u001b[0m\n",
            "\u001b[?25hRequirement already satisfied: urllib3<1.27,>=1.21.1 in /usr/local/lib/python3.9/dist-packages (from requests>=2.20->openai) (1.26.15)\n",
            "Requirement already satisfied: certifi>=2017.4.17 in /usr/local/lib/python3.9/dist-packages (from requests>=2.20->openai) (2022.12.7)\n",
            "Requirement already satisfied: charset-normalizer~=2.0.0 in /usr/local/lib/python3.9/dist-packages (from requests>=2.20->openai) (2.0.12)\n",
            "Requirement already satisfied: idna<4,>=2.5 in /usr/local/lib/python3.9/dist-packages (from requests>=2.20->openai) (3.4)\n",
            "Collecting frozenlist>=1.1.1\n",
            "  Downloading frozenlist-1.3.3-cp39-cp39-manylinux_2_5_x86_64.manylinux1_x86_64.manylinux_2_17_x86_64.manylinux2014_x86_64.whl (158 kB)\n",
            "\u001b[2K     \u001b[90m━━━━━━━━━━━━━━━━━━━━━━━━━━━━━━━━━━━━━━━\u001b[0m \u001b[32m158.8/158.8 KB\u001b[0m \u001b[31m9.6 MB/s\u001b[0m eta \u001b[36m0:00:00\u001b[0m\n",
            "\u001b[?25hCollecting aiosignal>=1.1.2\n",
            "  Downloading aiosignal-1.3.1-py3-none-any.whl (7.6 kB)\n",
            "Collecting async-timeout<5.0,>=4.0.0a3\n",
            "  Downloading async_timeout-4.0.2-py3-none-any.whl (5.8 kB)\n",
            "Collecting yarl<2.0,>=1.0\n",
            "  Downloading yarl-1.8.2-cp39-cp39-manylinux_2_17_x86_64.manylinux2014_x86_64.whl (264 kB)\n",
            "\u001b[2K     \u001b[90m━━━━━━━━━━━━━━━━━━━━━━━━━━━━━━━━━━━━━━\u001b[0m \u001b[32m264.6/264.6 KB\u001b[0m \u001b[31m15.7 MB/s\u001b[0m eta \u001b[36m0:00:00\u001b[0m\n",
            "\u001b[?25hCollecting multidict<7.0,>=4.5\n",
            "  Downloading multidict-6.0.4-cp39-cp39-manylinux_2_17_x86_64.manylinux2014_x86_64.whl (114 kB)\n",
            "\u001b[2K     \u001b[90m━━━━━━━━━━━━━━━━━━━━━━━━━━━━━━━━━━━━━━━\u001b[0m \u001b[32m114.2/114.2 KB\u001b[0m \u001b[31m3.6 MB/s\u001b[0m eta \u001b[36m0:00:00\u001b[0m\n",
            "\u001b[?25hRequirement already satisfied: attrs>=17.3.0 in /usr/local/lib/python3.9/dist-packages (from aiohttp->openai) (22.2.0)\n",
            "Installing collected packages: multidict, frozenlist, async-timeout, yarl, aiosignal, aiohttp, openai\n",
            "Successfully installed aiohttp-3.8.4 aiosignal-1.3.1 async-timeout-4.0.2 frozenlist-1.3.3 multidict-6.0.4 openai-0.27.2 yarl-1.8.2\n"
          ]
        }
      ]
    },
    {
      "cell_type": "code",
      "source": [
        "import openai\n",
        "\n",
        "openai.api_key = \"secret\""
      ],
      "metadata": {
        "id": "0jsTh0Mj6-Te"
      },
      "execution_count": 2,
      "outputs": []
    },
    {
      "cell_type": "code",
      "source": [
        "from IPython.display import Audio\n",
        "Audio(\"/content/voice_file/voice1.mp3\")"
      ],
      "metadata": {
        "colab": {
          "base_uri": "https://localhost:8080/",
          "height": 76
        },
        "id": "ABLrl3L-9tTd",
        "outputId": "6c75de28-0a14-4f53-f877-ff283ae50c7a"
      },
      "execution_count": 3,
      "outputs": [
        {
          "output_type": "execute_result",
          "data": {
            "text/plain": [
              "<IPython.lib.display.Audio object>"
            ],
            "text/html": [
              "\n",
              "                <audio  controls=\"controls\" >\n",
              "                    <source src=\"data:audio/mpeg;base64,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\" type=\"audio/mpeg\" />\n",
              "                    Your browser does not support the audio element.\n",
              "                </audio>\n",
              "              "
            ]
          },
          "metadata": {},
          "execution_count": 3
        }
      ]
    },
    {
      "cell_type": "code",
      "source": [
        "audio_file_1 = open(\"/content/voice_file/voice1.mp3\", \"rb\")"
      ],
      "metadata": {
        "id": "q5Tec-fd9N7r"
      },
      "execution_count": 5,
      "outputs": []
    },
    {
      "cell_type": "code",
      "source": [
        "transcript = openai.Audio.transcribe(\"whisper-1\", audio_file_1)\n",
        "text = transcript['text']\n",
        "print(text)"
      ],
      "metadata": {
        "colab": {
          "base_uri": "https://localhost:8080/"
        },
        "id": "0uZKyLz0-NFR",
        "outputId": "43ed873f-40e8-4b6c-af36-f995051486c4"
      },
      "execution_count": 6,
      "outputs": [
        {
          "output_type": "stream",
          "name": "stdout",
          "text": [
            "안녕? 너 이름이 뭐야?\n"
          ]
        }
      ]
    },
    {
      "cell_type": "code",
      "execution_count": 8,
      "metadata": {
        "colab": {
          "base_uri": "https://localhost:8080/"
        },
        "id": "95zY2dFd6XP7",
        "outputId": "1690e504-8d0c-41a8-b69f-619d9d1b9d94"
      },
      "outputs": [
        {
          "output_type": "stream",
          "name": "stdout",
          "text": [
            "ChatGPT: 안녕하세요! 저는 포로로예요.\n"
          ]
        }
      ],
      "source": [
        "messages = [{\n",
        "            \"role\":\"system\",\n",
        "            \"content\" : \"You are pororo who is famous Cartoon character in Korea\"\n",
        "        },]\n",
        "\n",
        "message = text\n",
        "if message:\n",
        "    messages.append(\n",
        "        {\"role\": \"user\", \"content\": message},\n",
        "    )\n",
        "    chat = openai.ChatCompletion.create(\n",
        "        model=\"gpt-3.5-turbo\", messages=messages\n",
        "    )\n",
        "\n",
        "reply = chat.choices[0].message.content\n",
        "print(f\"ChatGPT: {reply}\")\n",
        "messages.append({\"role\": \"assistant\", \"content\": reply})"
      ]
    },
    {
      "cell_type": "code",
      "source": [],
      "metadata": {
        "id": "XU1uOgHg-ckT"
      },
      "execution_count": null,
      "outputs": []
    }
  ]
}